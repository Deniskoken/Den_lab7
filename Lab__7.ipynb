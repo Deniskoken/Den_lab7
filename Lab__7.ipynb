{
 "cells": [
  {
   "cell_type": "code",
   "execution_count": 1,
   "id": "62512d70-b18b-4fb3-82c5-487cdffd07b7",
   "metadata": {},
   "outputs": [
    {
     "name": "stdout",
     "output_type": "stream",
     "text": [
      "pip 24.2 from C:\\Users\\denis\\anaconda3\\Lib\\site-packages\\pip (python 3.12)\n",
      "\n"
     ]
    }
   ],
   "source": [
    "!pip --version"
   ]
  },
  {
   "cell_type": "code",
   "execution_count": 3,
   "id": "1d98cea2-7981-4dfb-b48d-be80c128dd15",
   "metadata": {},
   "outputs": [
    {
     "name": "stdout",
     "output_type": "stream",
     "text": [
      "Collecting pygame\n",
      "  Downloading pygame-2.6.1-cp312-cp312-win_amd64.whl.metadata (13 kB)\n",
      "Downloading pygame-2.6.1-cp312-cp312-win_amd64.whl (10.6 MB)\n",
      "   ---------------------------------------- 0.0/10.6 MB ? eta -:--:--\n",
      "   ---------------------------------------- 0.0/10.6 MB ? eta -:--:--\n",
      "   - -------------------------------------- 0.5/10.6 MB 2.4 MB/s eta 0:00:05\n",
      "   ---- ----------------------------------- 1.3/10.6 MB 3.7 MB/s eta 0:00:03\n",
      "   ------- -------------------------------- 2.1/10.6 MB 3.8 MB/s eta 0:00:03\n",
      "   ------------ --------------------------- 3.4/10.6 MB 4.3 MB/s eta 0:00:02\n",
      "   ----------------- ---------------------- 4.7/10.6 MB 4.5 MB/s eta 0:00:02\n",
      "   -------------------- ------------------- 5.5/10.6 MB 4.7 MB/s eta 0:00:02\n",
      "   --------------------------- ------------ 7.3/10.6 MB 4.9 MB/s eta 0:00:01\n",
      "   -------------------------------- ------- 8.7/10.6 MB 5.1 MB/s eta 0:00:01\n",
      "   -------------------------------------- - 10.2/10.6 MB 5.2 MB/s eta 0:00:01\n",
      "   ---------------------------------------  10.5/10.6 MB 5.2 MB/s eta 0:00:01\n",
      "   ---------------------------------------  10.5/10.6 MB 5.2 MB/s eta 0:00:01\n",
      "   ---------------------------------------  10.5/10.6 MB 5.2 MB/s eta 0:00:01\n",
      "   ---------------------------------------  10.5/10.6 MB 5.2 MB/s eta 0:00:01\n",
      "   ---------------------------------------  10.5/10.6 MB 5.2 MB/s eta 0:00:01\n",
      "   ---------------------------------------  10.5/10.6 MB 5.2 MB/s eta 0:00:01\n",
      "   ---------------------------------------  10.5/10.6 MB 5.2 MB/s eta 0:00:01\n",
      "   ---------------------------------------  10.5/10.6 MB 5.2 MB/s eta 0:00:01\n",
      "   ---------------------------------------  10.5/10.6 MB 5.2 MB/s eta 0:00:01\n",
      "   ---------------------------------------  10.5/10.6 MB 5.2 MB/s eta 0:00:01\n",
      "   ---------------------------------------  10.5/10.6 MB 5.2 MB/s eta 0:00:01\n",
      "   ---------------------------------------  10.5/10.6 MB 5.2 MB/s eta 0:00:01\n",
      "   ---------------------------------------  10.5/10.6 MB 5.2 MB/s eta 0:00:01\n",
      "   ---------------------------------------  10.5/10.6 MB 5.2 MB/s eta 0:00:01\n",
      "   ---------------------------------------  10.5/10.6 MB 5.2 MB/s eta 0:00:01\n",
      "   ---------------------------------------  10.5/10.6 MB 5.2 MB/s eta 0:00:01\n",
      "   ---------------------------------------  10.5/10.6 MB 5.2 MB/s eta 0:00:01\n",
      "   ---------------------------------------  10.5/10.6 MB 5.2 MB/s eta 0:00:01\n",
      "   ---------------------------------------  10.5/10.6 MB 5.2 MB/s eta 0:00:01\n",
      "   ---------------------------------------  10.5/10.6 MB 5.2 MB/s eta 0:00:01\n",
      "   ---------------------------------------  10.5/10.6 MB 5.2 MB/s eta 0:00:01\n",
      "   ---------------------------------------  10.5/10.6 MB 5.2 MB/s eta 0:00:01\n",
      "   ---------------------------------------  10.5/10.6 MB 5.2 MB/s eta 0:00:01\n",
      "   ---------------------------------------  10.5/10.6 MB 5.2 MB/s eta 0:00:01\n",
      "   ---------------------------------------  10.5/10.6 MB 5.2 MB/s eta 0:00:01\n",
      "   ---------------------------------------  10.5/10.6 MB 5.2 MB/s eta 0:00:01\n",
      "   ---------------------------------------  10.5/10.6 MB 5.2 MB/s eta 0:00:01\n",
      "   ---------------------------------------  10.5/10.6 MB 5.2 MB/s eta 0:00:01\n",
      "   ---------------------------------------  10.5/10.6 MB 5.2 MB/s eta 0:00:01\n",
      "   ---------------------------------------  10.5/10.6 MB 5.2 MB/s eta 0:00:01\n",
      "   ---------------------------------------  10.5/10.6 MB 5.2 MB/s eta 0:00:01\n",
      "   ---------------------------------------  10.5/10.6 MB 5.2 MB/s eta 0:00:01\n",
      "   ---------------------------------------  10.5/10.6 MB 5.2 MB/s eta 0:00:01\n",
      "   ---------------------------------------  10.5/10.6 MB 5.2 MB/s eta 0:00:01\n",
      "   ---------------------------------------  10.5/10.6 MB 5.2 MB/s eta 0:00:01\n",
      "   ---------------------------------------  10.5/10.6 MB 5.2 MB/s eta 0:00:01\n",
      "   ---------------------------------------  10.5/10.6 MB 5.2 MB/s eta 0:00:01\n",
      "   ---------------------------------------  10.5/10.6 MB 5.2 MB/s eta 0:00:01\n",
      "   ---------------------------------------  10.5/10.6 MB 5.2 MB/s eta 0:00:01\n",
      "   ---------------------------------------  10.5/10.6 MB 5.2 MB/s eta 0:00:01\n",
      "   ---------------------------------------  10.5/10.6 MB 5.2 MB/s eta 0:00:01\n",
      "   ---------------------------------------  10.5/10.6 MB 5.2 MB/s eta 0:00:01\n",
      "   ---------------------------------------  10.5/10.6 MB 5.2 MB/s eta 0:00:01\n",
      "   ---------------------------------------  10.5/10.6 MB 5.2 MB/s eta 0:00:01\n",
      "   ---------------------------------------  10.5/10.6 MB 5.2 MB/s eta 0:00:01\n",
      "   ---------------------------------------  10.5/10.6 MB 5.2 MB/s eta 0:00:01\n",
      "   ---------------------------------------  10.5/10.6 MB 5.2 MB/s eta 0:00:01\n",
      "   ---------------------------------------  10.5/10.6 MB 5.2 MB/s eta 0:00:01\n",
      "   ---------------------------------------  10.5/10.6 MB 5.2 MB/s eta 0:00:01\n",
      "   ---------------------------------------  10.5/10.6 MB 5.2 MB/s eta 0:00:01\n",
      "   ---------------------------------------  10.5/10.6 MB 5.2 MB/s eta 0:00:01\n",
      "   ---------------------------------------  10.5/10.6 MB 5.2 MB/s eta 0:00:01\n",
      "   ---------------------------------------  10.5/10.6 MB 5.2 MB/s eta 0:00:01\n",
      "   ---------------------------------------- 10.6/10.6 MB 674.0 kB/s eta 0:00:00\n",
      "Installing collected packages: pygame\n",
      "Successfully installed pygame-2.6.1\n"
     ]
    }
   ],
   "source": [
    "!pip install pygame"
   ]
  },
  {
   "cell_type": "code",
   "execution_count": null,
   "id": "8342050b-b163-4c9d-be7f-e22a09812f40",
   "metadata": {},
   "outputs": [
    {
     "name": "stdout",
     "output_type": "stream",
     "text": [
      "pygame 2.6.1 (SDL 2.28.4, Python 3.12.9)\n",
      "Hello from the pygame community. https://www.pygame.org/contribute.html\n"
     ]
    }
   ],
   "source": [
    "import pygame\n",
    "import math\n",
    "from datetime import datetime\n",
    " \n",
    "def blitrotate(surf, image, pos, originPos, angle):\n",
    "    image_rect = image.get_rect(center=(pos[0], pos[1]))\n",
    "    rotated_image = pygame.transform.rotate(image, -angle)\n",
    "    rotated_rect = rotated_image.get_rect(center=image_rect.center)\n",
    "    surf.blit(rotated_image, rotated_rect)\n",
    " \n",
    "pygame.init()\n",
    "clocks = pygame.image.load(\"clock.png\")\n",
    "minutes = pygame.image.load(\"rightarm.png\")\n",
    "seconds = pygame.image.load(\"leftarm.png\")\n",
    "screen = pygame.display.set_mode(clocks.get_size())\n",
    "clock = pygame.time.Clock()\n",
    " \n",
    "center_x, center_y = screen.get_width() // 2, screen.get_height() // 2\n",
    "minutes_pos = (center_x, center_y)\n",
    "seconds_pos = (center_x, center_y)\n",
    " \n",
    "while True:\n",
    "    for event in pygame.event.get():\n",
    "        if event.type == pygame.QUIT:\n",
    "            running = False\n",
    "    now = datetime.now()\n",
    "    second_angle = (now.second / 60) * 360\n",
    "    minute_angle = (now.minute / 60) * 360\n",
    "    screen.fill((255, 255, 255))\n",
    "    screen.blit(clocks, (0, 0))\n",
    "    blitrotate(screen, minutes, minutes_pos, (0, 0), minute_angle)\n",
    "    blitrotate(screen, seconds, seconds_pos, (0, 0), second_angle)\n",
    " \n",
    "    pygame.display.flip()\n",
    "    clock.tick(60)\n",
    " \n",
    "pygame.quit()"
   ]
  },
  {
   "cell_type": "code",
   "execution_count": 13,
   "id": "b0c0e895-bf51-4a60-8e5c-18b1b3fdf657",
   "metadata": {},
   "outputs": [
    {
     "name": "stdout",
     "output_type": "stream",
     "text": [
      "Requirement already satisfied: pygame in c:\\users\\denis\\anaconda3\\lib\\site-packages (2.6.1)Note: you may need to restart the kernel to use updated packages.\n",
      "\n"
     ]
    }
   ],
   "source": [
    "pip install --upgrade pygame\n"
   ]
  },
  {
   "cell_type": "code",
   "execution_count": 1,
   "id": "62952581-957f-47f7-a7f9-a8f169ac83d8",
   "metadata": {},
   "outputs": [
    {
     "name": "stdout",
     "output_type": "stream",
     "text": [
      "pygame 2.6.1 (SDL 2.28.4, Python 3.12.9)\n",
      "Hello from the pygame community. https://www.pygame.org/contribute.html\n"
     ]
    },
    {
     "ename": "FileNotFoundError",
     "evalue": "No file 'Untitled folder\\Loony.jpg' found in working directory 'C:\\Users\\denis\\Downloads\\Untitled Folder'.",
     "output_type": "error",
     "traceback": [
      "\u001b[1;31m---------------------------------------------------------------------------\u001b[0m",
      "\u001b[1;31mFileNotFoundError\u001b[0m                         Traceback (most recent call last)",
      "Cell \u001b[1;32mIn[1], line 16\u001b[0m\n\u001b[0;32m     14\u001b[0m pygame\u001b[38;5;241m.\u001b[39mdisplay\u001b[38;5;241m.\u001b[39mset_caption(\u001b[38;5;124m\"\u001b[39m\u001b[38;5;124mLoony Lao\u001b[39m\u001b[38;5;124m\"\u001b[39m)\n\u001b[0;32m     15\u001b[0m clock \u001b[38;5;241m=\u001b[39m pygame\u001b[38;5;241m.\u001b[39mtime\u001b[38;5;241m.\u001b[39mClock()\n\u001b[1;32m---> 16\u001b[0m background \u001b[38;5;241m=\u001b[39m pygame\u001b[38;5;241m.\u001b[39mimage\u001b[38;5;241m.\u001b[39mload(os\u001b[38;5;241m.\u001b[39mpath\u001b[38;5;241m.\u001b[39mjoin(\u001b[38;5;124m\"\u001b[39m\u001b[38;5;124mUntitled folder\u001b[39m\u001b[38;5;124m\"\u001b[39m, \u001b[38;5;124m\"\u001b[39m\u001b[38;5;124mLoony.jpg\u001b[39m\u001b[38;5;124m\"\u001b[39m))\n\u001b[0;32m     17\u001b[0m bg \u001b[38;5;241m=\u001b[39m pygame\u001b[38;5;241m.\u001b[39mSurface((\u001b[38;5;241m500\u001b[39m, \u001b[38;5;241m200\u001b[39m))\n\u001b[0;32m     18\u001b[0m bg\u001b[38;5;241m.\u001b[39mfill((\u001b[38;5;241m255\u001b[39m, \u001b[38;5;241m255\u001b[39m, \u001b[38;5;241m255\u001b[39m))\n",
      "\u001b[1;31mFileNotFoundError\u001b[0m: No file 'Untitled folder\\Loony.jpg' found in working directory 'C:\\Users\\denis\\Downloads\\Untitled Folder'."
     ]
    }
   ],
   "source": [
    "import pygame\n",
    "import os\n",
    "\n",
    "pygame.init()\n",
    "playlist = []\n",
    "music_folder = \"C:/Users/denis/Downloads/Lab7_musics\"\n",
    "\n",
    "allmusic = os.listdir(music_folder)\n",
    "\n",
    "for song in allmusic:\n",
    "    if song.endswith(\".mp3\"):\n",
    "        playlist.append(os.path.join(music_folder, song))\n",
    "screen = pygame.display.set_mode((800, 800))\n",
    "pygame.display.set_caption(\"Loony Lao\")\n",
    "clock = pygame.time.Clock()\n",
    "background = pygame.image.load(os.path.join(\"Untitled folder\", \"Loony.jpg\"))\n",
    "bg = pygame.Surface((500, 200))\n",
    "bg.fill((255, 255, 255))\n",
    "font2 = pygame.font.SysFont(None, 20)\n",
    "playb = pygame.image.load(os.path.join(\"Untitled folder\", \"play.png\"))\n",
    "pausb = pygame.image.load(os.path.join(\"Untitled folder\", \"pause.png\"))\n",
    "nextb = pygame.image.load(os.path.join(\"Untitled folder\", \"next.png\"))\n",
    "prevb = pygame.image.load(os.path.join(\"Untitled folder\", \"back.png\"))\n",
    "\n",
    "index = 0\n",
    "aplay = False\n",
    "\n",
    "pygame.mixer.music.load(playlist[index]) \n",
    "pygame.mixer.music.play(1)\n",
    "aplay = True \n",
    "\n",
    "run = True\n",
    "\n",
    "while run:\n",
    "    for event in pygame.event.get():\n",
    "        if event.type == pygame.QUIT:\n",
    "            run = False\n",
    "            pygame.quit()\n",
    "            exit()\n",
    "        elif event.type == pygame.KEYDOWN:\n",
    "            if event.key == pygame.K_SPACE: \n",
    "                if aplay:\n",
    "                    aplay = False\n",
    "                    pygame.mixer.music.pause()\n",
    "                else:\n",
    "                    aplay = True\n",
    "                    pygame.mixer.music.unpause()\n",
    "\n",
    "            if event.key == pygame.K_RIGHT:\n",
    "                index = (index + 1) % len(playlist)\n",
    "                pygame.mixer.music.load(playlist[index])\n",
    "                pygame.mixer.music.play()\n",
    "\n",
    "            if event.key == pygame.K_LEFT: \n",
    "                index = (index - 1) % len(playlist)\n",
    "                pygame.mixer.music.load(playlist[index])\n",
    "                pygame.mixer.music.play()\n",
    "    text2 = font2.render(os.path.basename(playlist[index]), True, (20, 20, 50))\n",
    "    \n",
    "    screen.blit(background, (-50, 0))\n",
    "    screen.blit(bg, (155, 500))\n",
    "    screen.blit(text2, (365, 520))\n",
    "    playb = pygame.transform.scale(playb, (70, 70))\n",
    "    pausb = pygame.transform.scale(pausb, (70, 70))\n",
    "    if aplay:\n",
    "        screen.blit(pausb, (370, 590))\n",
    "    else: \n",
    "        screen.blit(playb, (370, 590))\n",
    "    nextb = pygame.transform.scale(nextb, (70, 70))\n",
    "    screen.blit(nextb, (460, 587))\n",
    "    prevb = pygame.transform.scale(prevb, (75, 75))\n",
    "    screen.blit(prevb, (273, 585))\n",
    "\n",
    "    clock.tick(24)\n",
    "    pygame.display.update()"
   ]
  },
  {
   "cell_type": "code",
   "execution_count": 5,
   "id": "8dc16683-837d-4707-a9bd-1d2b6e9dcf05",
   "metadata": {},
   "outputs": [
    {
     "name": "stdout",
     "output_type": "stream",
     "text": [
      "pygame 2.6.1 (SDL 2.28.4, Python 3.12.9)\n",
      "Hello from the pygame community. https://www.pygame.org/contribute.html\n"
     ]
    },
    {
     "ename": "error",
     "evalue": "video system not initialized",
     "output_type": "error",
     "traceback": [
      "\u001b[1;31m---------------------------------------------------------------------------\u001b[0m",
      "\u001b[1;31merror\u001b[0m                                     Traceback (most recent call last)",
      "Cell \u001b[1;32mIn[5], line 21\u001b[0m\n\u001b[0;32m     19\u001b[0m         pygame\u001b[38;5;241m.\u001b[39mquit()\n\u001b[0;32m     20\u001b[0m         exit()\n\u001b[1;32m---> 21\u001b[0m keys \u001b[38;5;241m=\u001b[39m pygame\u001b[38;5;241m.\u001b[39mkey\u001b[38;5;241m.\u001b[39mget_pressed()\n\u001b[0;32m     22\u001b[0m \u001b[38;5;28;01mif\u001b[39;00m keys[pygame\u001b[38;5;241m.\u001b[39mK_UP]: \n\u001b[0;32m     23\u001b[0m     ball_pos[\u001b[38;5;241m1\u001b[39m] \u001b[38;5;241m=\u001b[39m \u001b[38;5;28mmax\u001b[39m(ball_pos[\u001b[38;5;241m1\u001b[39m] \u001b[38;5;241m-\u001b[39m speed, ball_radius)\n",
      "\u001b[1;31merror\u001b[0m: video system not initialized"
     ]
    }
   ],
   "source": [
    "import pygame\n",
    "pygame.init()\n",
    "\n",
    "window_size = (800, 600) \n",
    "screen = pygame.display.set_mode(window_size) \n",
    "pygame.display.set_caption(\"Draw circle\")\n",
    "ball_color = pygame.Color('red')\n",
    "bg_color = pygame.Color('white')\n",
    "\n",
    "ball_pos = [400, 300]\n",
    "\n",
    "ball_radius = 25\n",
    "\n",
    "speed = 20 \n",
    "\n",
    "while True:\n",
    "    for event in pygame.event.get():\n",
    "        if event.type == pygame.QUIT:\n",
    "            pygame.quit()\n",
    "            exit()\n",
    "    keys = pygame.key.get_pressed()\n",
    "    if keys[pygame.K_UP]: \n",
    "        ball_pos[1] = max(ball_pos[1] - speed, ball_radius)\n",
    "    if keys[pygame.K_DOWN]:\n",
    "        ball_pos[1] = min(ball_pos[1] + speed, window_size[1] - ball_radius)\n",
    "    if keys[pygame.K_LEFT]:\n",
    "        ball_pos[0] = max(ball_pos[0] - speed, ball_radius)\n",
    "    if keys[pygame.K_RIGHT]:\n",
    "        ball_pos[0] = min(ball_pos[0] + speed, window_size[0] - ball_radius)\n",
    "    \n",
    "    screen.fill(bg_color)\n",
    "    pygame.draw.circle(screen, ball_color, ball_pos, ball_radius)\n",
    "    pygame.display.flip()\n",
    "    pygame.time.Clock().tick(24)"
   ]
  },
  {
   "cell_type": "code",
   "execution_count": 1,
   "id": "e8260fa6-2990-4277-96f6-18715a3a644b",
   "metadata": {},
   "outputs": [
    {
     "name": "stdout",
     "output_type": "stream",
     "text": [
      "J\n"
     ]
    }
   ],
   "source": [
    "print(\"J\")"
   ]
  },
  {
   "cell_type": "code",
   "execution_count": 3,
   "id": "70f471c6-16fa-4e69-9cc6-9eff80931444",
   "metadata": {},
   "outputs": [
    {
     "data": {
      "text/plain": [
       "2"
      ]
     },
     "execution_count": 3,
     "metadata": {},
     "output_type": "execute_result"
    }
   ],
   "source": [
    "1+1"
   ]
  },
  {
   "cell_type": "code",
   "execution_count": 2,
   "id": "b39d8599-0ed5-4de1-9ed3-fefb3f5a722f",
   "metadata": {},
   "outputs": [
    {
     "name": "stdout",
     "output_type": "stream",
     "text": [
      "pygame 2.6.1 (SDL 2.28.4, Python 3.12.9)\n",
      "Hello from the pygame community. https://www.pygame.org/contribute.html\n",
      "Ошибка: Файл music-elements/Loony.jpg не найден!\n"
     ]
    },
    {
     "ename": "FileNotFoundError",
     "evalue": "No file 'music-elements/Loony.jpg' found in working directory 'C:\\Users\\denis\\Downloads\\Untitled Folder'.",
     "output_type": "error",
     "traceback": [
      "\u001b[1;31m---------------------------------------------------------------------------\u001b[0m",
      "\u001b[1;31mFileNotFoundError\u001b[0m                         Traceback (most recent call last)",
      "Cell \u001b[1;32mIn[2], line 47\u001b[0m\n\u001b[0;32m     45\u001b[0m         pygame\u001b[38;5;241m.\u001b[39mquit()\n\u001b[0;32m     46\u001b[0m         exit()\n\u001b[1;32m---> 47\u001b[0m     images[key] \u001b[38;5;241m=\u001b[39m pygame\u001b[38;5;241m.\u001b[39mimage\u001b[38;5;241m.\u001b[39mload(path)\n\u001b[0;32m     49\u001b[0m \u001b[38;5;66;03m# Изменение размеров кнопок\u001b[39;00m\n\u001b[0;32m     50\u001b[0m images[\u001b[38;5;124m\"\u001b[39m\u001b[38;5;124mplay\u001b[39m\u001b[38;5;124m\"\u001b[39m] \u001b[38;5;241m=\u001b[39m pygame\u001b[38;5;241m.\u001b[39mtransform\u001b[38;5;241m.\u001b[39mscale(images[\u001b[38;5;124m\"\u001b[39m\u001b[38;5;124mplay\u001b[39m\u001b[38;5;124m\"\u001b[39m], (\u001b[38;5;241m70\u001b[39m, \u001b[38;5;241m70\u001b[39m))\n",
      "\u001b[1;31mFileNotFoundError\u001b[0m: No file 'music-elements/Loony.jpg' found in working directory 'C:\\Users\\denis\\Downloads\\Untitled Folder'."
     ]
    }
   ],
   "source": [
    "import pygame\n",
    "import os\n",
    "\n",
    "# Инициализация pygame\n",
    "pygame.init()\n",
    "\n",
    "# === Папка с музыкой ===\n",
    "music_folder = \"C:/Users/denis/Downloads/Lab7_musics\"\n",
    "\n",
    "# Проверка существования папки\n",
    "if not os.path.exists(music_folder):\n",
    "    print(\"Ошибка: Папка с музыкой не найдена!\")\n",
    "    pygame.quit()\n",
    "    exit()\n",
    "\n",
    "# Получаем список песен\n",
    "playlist = [os.path.join(music_folder, song) for song in os.listdir(music_folder) if song.endswith(\".mp3\")]\n",
    "\n",
    "# Проверка наличия mp3-файлов\n",
    "if not playlist:\n",
    "    print(\"Ошибка: В папке нет MP3-файлов!\")\n",
    "    pygame.quit()\n",
    "    exit()\n",
    "\n",
    "# === Настройка экрана ===\n",
    "WIDTH, HEIGHT = 800, 800\n",
    "screen = pygame.display.set_mode((WIDTH, HEIGHT))\n",
    "pygame.display.set_caption(\"Loony Lao\")\n",
    "clock = pygame.time.Clock()\n",
    "\n",
    "# === Загружаем изображения ===\n",
    "image_files = {\n",
    "    \"background\": \"music-elements/Loony.jpg\",\n",
    "    \"play\": \"music-elements/play.png\",\n",
    "    \"pause\": \"music-elements/pause.png\",\n",
    "    \"next\": \"music-elements/next.png\",\n",
    "    \"prev\": \"music-elements/back.png\",\n",
    "}\n",
    "\n",
    "images = {}\n",
    "\n",
    "for key, path in image_files.items():\n",
    "    if not os.path.exists(path):\n",
    "        print(f\"Ошибка: Файл {path} не найден!\")\n",
    "        pygame.quit()\n",
    "        exit()\n",
    "    images[key] = pygame.image.load(path)\n",
    "\n",
    "# Изменение размеров кнопок\n",
    "images[\"play\"] = pygame.transform.scale(images[\"play\"], (70, 70))\n",
    "images[\"pause\"] = pygame.transform.scale(images[\"pause\"], (70, 70))\n",
    "images[\"next\"] = pygame.transform.scale(images[\"next\"], (70, 70))\n",
    "images[\"prev\"] = pygame.transform.scale(images[\"prev\"], (75, 75))\n",
    "\n",
    "# === Шрифт ===\n",
    "font = pygame.font.Font(None, 24)\n",
    "\n",
    "# === Переменные ===\n",
    "index = 0\n",
    "aplay = False\n",
    "\n",
    "# === Запуск музыки ===\n",
    "pygame.mixer.music.load(playlist[index])\n",
    "pygame.mixer.music.play()\n",
    "aplay = True\n",
    "\n",
    "# === Основной цикл игры ===\n",
    "run = True\n",
    "while run:\n",
    "    screen.fill((0, 0, 0))  # Очищаем экран (чтобы избежать артефактов)\n",
    "    \n",
    "    # Обработчик событий\n",
    "    for event in pygame.event.get():\n",
    "        if event.type == pygame.QUIT:\n",
    "            run = False\n",
    "\n",
    "        elif event.type == pygame.KEYDOWN:\n",
    "            if event.key == pygame.K_SPACE:  # Пауза/воспроизведение\n",
    "                if aplay:\n",
    "                    pygame.mixer.music.pause()\n",
    "                else:\n",
    "                    pygame.mixer.music.unpause()\n",
    "                aplay = not aplay\n",
    "\n",
    "            if event.key == pygame.K_RIGHT:  # Следующий трек\n",
    "                index = (index + 1) % len(playlist)\n",
    "                pygame.mixer.music.load(playlist[index])\n",
    "                pygame.mixer.music.play()\n",
    "\n",
    "            if event.key == pygame.K_LEFT:  # Предыдущий трек\n",
    "                index = (index - 1) % len(playlist)\n",
    "                pygame.mixer.music.load(playlist[index])\n",
    "                pygame.mixer.music.play()\n",
    "\n",
    "    # === Отрисовка элементов ===\n",
    "    screen.blit(images[\"background\"], (0, 0))  # Фон\n",
    "    text = font.render(os.path.basename(playlist[index]), True, (255, 255, 255))\n",
    "    screen.blit(text, (WIDTH // 2 - text.get_width() // 2, 520))\n",
    "\n",
    "    # Кнопки\n",
    "    if aplay:\n",
    "        screen.blit(images[\"pause\"], (370, 590))\n",
    "    else:\n",
    "        screen.blit(images[\"play\"], (370, 590))\n",
    "    \n",
    "    screen.blit(images[\"next\"], (460, 587))\n",
    "    screen.blit(images[\"prev\"], (273, 585))\n",
    "\n",
    "    # === Обновление экрана ===\n",
    "    pygame.display.update()\n",
    "    clock.tick(24)\n",
    "\n",
    "# === Завершение pygame ===\n",
    "pygame.quit()\n",
    "exit()\n"
   ]
  },
  {
   "cell_type": "code",
   "execution_count": null,
   "id": "4d1dc169-c395-479d-9b42-76d1ff5ac32a",
   "metadata": {},
   "outputs": [],
   "source": []
  },
  {
   "cell_type": "code",
   "execution_count": null,
   "id": "db3ececc-f21d-458d-85bb-3d1c6df2796e",
   "metadata": {},
   "outputs": [],
   "source": []
  },
  {
   "cell_type": "code",
   "execution_count": null,
   "id": "4a4f4bf5-c791-4248-bf83-b10ed27625b9",
   "metadata": {},
   "outputs": [],
   "source": []
  },
  {
   "cell_type": "code",
   "execution_count": null,
   "id": "214036db-520c-4781-b2c8-47354794e857",
   "metadata": {},
   "outputs": [],
   "source": []
  },
  {
   "cell_type": "code",
   "execution_count": null,
   "id": "c98fba4a-96aa-43a2-a7c8-ad2342e184f1",
   "metadata": {},
   "outputs": [],
   "source": []
  },
  {
   "cell_type": "code",
   "execution_count": null,
   "id": "181d83af-0d88-413d-973d-d430465ad0c8",
   "metadata": {},
   "outputs": [],
   "source": []
  },
  {
   "cell_type": "code",
   "execution_count": null,
   "id": "55101e21-7bcf-4bcf-97fb-5358a8fa3428",
   "metadata": {},
   "outputs": [],
   "source": []
  }
 ],
 "metadata": {
  "kernelspec": {
   "display_name": "Python [conda env:base] *",
   "language": "python",
   "name": "conda-base-py"
  },
  "language_info": {
   "codemirror_mode": {
    "name": "ipython",
    "version": 3
   },
   "file_extension": ".py",
   "mimetype": "text/x-python",
   "name": "python",
   "nbconvert_exporter": "python",
   "pygments_lexer": "ipython3",
   "version": "3.12.9"
  }
 },
 "nbformat": 4,
 "nbformat_minor": 5
}
