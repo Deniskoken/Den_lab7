{
 "cells": [
  {
   "cell_type": "code",
   "execution_count": 1,
   "id": "62512d70-b18b-4fb3-82c5-487cdffd07b7",
   "metadata": {},
   "outputs": [
    {
     "name": "stdout",
     "output_type": "stream",
     "text": [
      "pip 24.2 from C:\\Users\\denis\\anaconda3\\Lib\\site-packages\\pip (python 3.12)\n",
      "\n"
     ]
    }
   ],
   "source": [
    "!pip --version"
   ]
  },
  {
   "cell_type": "code",
   "execution_count": 3,
   "id": "1d98cea2-7981-4dfb-b48d-be80c128dd15",
   "metadata": {},
   "outputs": [
    {
     "name": "stdout",
     "output_type": "stream",
     "text": [
      "Collecting pygame\n",
      "  Downloading pygame-2.6.1-cp312-cp312-win_amd64.whl.metadata (13 kB)\n",
      "Downloading pygame-2.6.1-cp312-cp312-win_amd64.whl (10.6 MB)\n",
      "   ---------------------------------------- 0.0/10.6 MB ? eta -:--:--\n",
      "   ---------------------------------------- 0.0/10.6 MB ? eta -:--:--\n",
      "   - -------------------------------------- 0.5/10.6 MB 2.4 MB/s eta 0:00:05\n",
      "   ---- ----------------------------------- 1.3/10.6 MB 3.7 MB/s eta 0:00:03\n",
      "   ------- -------------------------------- 2.1/10.6 MB 3.8 MB/s eta 0:00:03\n",
      "   ------------ --------------------------- 3.4/10.6 MB 4.3 MB/s eta 0:00:02\n",
      "   ----------------- ---------------------- 4.7/10.6 MB 4.5 MB/s eta 0:00:02\n",
      "   -------------------- ------------------- 5.5/10.6 MB 4.7 MB/s eta 0:00:02\n",
      "   --------------------------- ------------ 7.3/10.6 MB 4.9 MB/s eta 0:00:01\n",
      "   -------------------------------- ------- 8.7/10.6 MB 5.1 MB/s eta 0:00:01\n",
      "   -------------------------------------- - 10.2/10.6 MB 5.2 MB/s eta 0:00:01\n",
      "   ---------------------------------------  10.5/10.6 MB 5.2 MB/s eta 0:00:01\n",
      "   ---------------------------------------  10.5/10.6 MB 5.2 MB/s eta 0:00:01\n",
      "   ---------------------------------------  10.5/10.6 MB 5.2 MB/s eta 0:00:01\n",
      "   ---------------------------------------  10.5/10.6 MB 5.2 MB/s eta 0:00:01\n",
      "   ---------------------------------------  10.5/10.6 MB 5.2 MB/s eta 0:00:01\n",
      "   ---------------------------------------  10.5/10.6 MB 5.2 MB/s eta 0:00:01\n",
      "   ---------------------------------------  10.5/10.6 MB 5.2 MB/s eta 0:00:01\n",
      "   ---------------------------------------  10.5/10.6 MB 5.2 MB/s eta 0:00:01\n",
      "   ---------------------------------------  10.5/10.6 MB 5.2 MB/s eta 0:00:01\n",
      "   ---------------------------------------  10.5/10.6 MB 5.2 MB/s eta 0:00:01\n",
      "   ---------------------------------------  10.5/10.6 MB 5.2 MB/s eta 0:00:01\n",
      "   ---------------------------------------  10.5/10.6 MB 5.2 MB/s eta 0:00:01\n",
      "   ---------------------------------------  10.5/10.6 MB 5.2 MB/s eta 0:00:01\n",
      "   ---------------------------------------  10.5/10.6 MB 5.2 MB/s eta 0:00:01\n",
      "   ---------------------------------------  10.5/10.6 MB 5.2 MB/s eta 0:00:01\n",
      "   ---------------------------------------  10.5/10.6 MB 5.2 MB/s eta 0:00:01\n",
      "   ---------------------------------------  10.5/10.6 MB 5.2 MB/s eta 0:00:01\n",
      "   ---------------------------------------  10.5/10.6 MB 5.2 MB/s eta 0:00:01\n",
      "   ---------------------------------------  10.5/10.6 MB 5.2 MB/s eta 0:00:01\n",
      "   ---------------------------------------  10.5/10.6 MB 5.2 MB/s eta 0:00:01\n",
      "   ---------------------------------------  10.5/10.6 MB 5.2 MB/s eta 0:00:01\n",
      "   ---------------------------------------  10.5/10.6 MB 5.2 MB/s eta 0:00:01\n",
      "   ---------------------------------------  10.5/10.6 MB 5.2 MB/s eta 0:00:01\n",
      "   ---------------------------------------  10.5/10.6 MB 5.2 MB/s eta 0:00:01\n",
      "   ---------------------------------------  10.5/10.6 MB 5.2 MB/s eta 0:00:01\n",
      "   ---------------------------------------  10.5/10.6 MB 5.2 MB/s eta 0:00:01\n",
      "   ---------------------------------------  10.5/10.6 MB 5.2 MB/s eta 0:00:01\n",
      "   ---------------------------------------  10.5/10.6 MB 5.2 MB/s eta 0:00:01\n",
      "   ---------------------------------------  10.5/10.6 MB 5.2 MB/s eta 0:00:01\n",
      "   ---------------------------------------  10.5/10.6 MB 5.2 MB/s eta 0:00:01\n",
      "   ---------------------------------------  10.5/10.6 MB 5.2 MB/s eta 0:00:01\n",
      "   ---------------------------------------  10.5/10.6 MB 5.2 MB/s eta 0:00:01\n",
      "   ---------------------------------------  10.5/10.6 MB 5.2 MB/s eta 0:00:01\n",
      "   ---------------------------------------  10.5/10.6 MB 5.2 MB/s eta 0:00:01\n",
      "   ---------------------------------------  10.5/10.6 MB 5.2 MB/s eta 0:00:01\n",
      "   ---------------------------------------  10.5/10.6 MB 5.2 MB/s eta 0:00:01\n",
      "   ---------------------------------------  10.5/10.6 MB 5.2 MB/s eta 0:00:01\n",
      "   ---------------------------------------  10.5/10.6 MB 5.2 MB/s eta 0:00:01\n",
      "   ---------------------------------------  10.5/10.6 MB 5.2 MB/s eta 0:00:01\n",
      "   ---------------------------------------  10.5/10.6 MB 5.2 MB/s eta 0:00:01\n",
      "   ---------------------------------------  10.5/10.6 MB 5.2 MB/s eta 0:00:01\n",
      "   ---------------------------------------  10.5/10.6 MB 5.2 MB/s eta 0:00:01\n",
      "   ---------------------------------------  10.5/10.6 MB 5.2 MB/s eta 0:00:01\n",
      "   ---------------------------------------  10.5/10.6 MB 5.2 MB/s eta 0:00:01\n",
      "   ---------------------------------------  10.5/10.6 MB 5.2 MB/s eta 0:00:01\n",
      "   ---------------------------------------  10.5/10.6 MB 5.2 MB/s eta 0:00:01\n",
      "   ---------------------------------------  10.5/10.6 MB 5.2 MB/s eta 0:00:01\n",
      "   ---------------------------------------  10.5/10.6 MB 5.2 MB/s eta 0:00:01\n",
      "   ---------------------------------------  10.5/10.6 MB 5.2 MB/s eta 0:00:01\n",
      "   ---------------------------------------  10.5/10.6 MB 5.2 MB/s eta 0:00:01\n",
      "   ---------------------------------------  10.5/10.6 MB 5.2 MB/s eta 0:00:01\n",
      "   ---------------------------------------  10.5/10.6 MB 5.2 MB/s eta 0:00:01\n",
      "   ---------------------------------------  10.5/10.6 MB 5.2 MB/s eta 0:00:01\n",
      "   ---------------------------------------- 10.6/10.6 MB 674.0 kB/s eta 0:00:00\n",
      "Installing collected packages: pygame\n",
      "Successfully installed pygame-2.6.1\n"
     ]
    }
   ],
   "source": [
    "!pip install pygame"
   ]
  },
  {
   "cell_type": "code",
   "execution_count": null,
   "id": "8342050b-b163-4c9d-be7f-e22a09812f40",
   "metadata": {},
   "outputs": [
    {
     "name": "stdout",
     "output_type": "stream",
     "text": [
      "pygame 2.6.1 (SDL 2.28.4, Python 3.12.9)\n",
      "Hello from the pygame community. https://www.pygame.org/contribute.html\n"
     ]
    }
   ],
   "source": [
    "import pygame\n",
    "import math\n",
    "from datetime import datetime\n",
    " \n",
    "def blitrotate(surf, image, pos, originPos, angle):\n",
    "    image_rect = image.get_rect(center=(pos[0], pos[1]))\n",
    "    rotated_image = pygame.transform.rotate(image, -angle)\n",
    "    rotated_rect = rotated_image.get_rect(center=image_rect.center)\n",
    "    surf.blit(rotated_image, rotated_rect)\n",
    " \n",
    "pygame.init()\n",
    "clocks = pygame.image.load(\"clock.png\")\n",
    "minutes = pygame.image.load(\"rightarm.png\")\n",
    "seconds = pygame.image.load(\"leftarm.png\")\n",
    "screen = pygame.display.set_mode(clocks.get_size())\n",
    "clock = pygame.time.Clock()\n",
    " \n",
    "center_x, center_y = screen.get_width() // 2, screen.get_height() // 2\n",
    "minutes_pos = (center_x, center_y)\n",
    "seconds_pos = (center_x, center_y)\n",
    " \n",
    "while True:\n",
    "    for event in pygame.event.get():\n",
    "        if event.type == pygame.QUIT:\n",
    "            running = False\n",
    "    now = datetime.now()\n",
    "    second_angle = (now.second / 60) * 360\n",
    "    minute_angle = (now.minute / 60) * 360\n",
    "    screen.fill((255, 255, 255))\n",
    "    screen.blit(clocks, (0, 0))\n",
    "    blitrotate(screen, minutes, minutes_pos, (0, 0), minute_angle)\n",
    "    blitrotate(screen, seconds, seconds_pos, (0, 0), second_angle)\n",
    " \n",
    "    pygame.display.flip()\n",
    "    clock.tick(60)\n",
    " \n",
    "pygame.quit()"
   ]
  },
  {
   "cell_type": "code",
   "execution_count": 13,
   "id": "b0c0e895-bf51-4a60-8e5c-18b1b3fdf657",
   "metadata": {},
   "outputs": [
    {
     "name": "stdout",
     "output_type": "stream",
     "text": [
      "Requirement already satisfied: pygame in c:\\users\\denis\\anaconda3\\lib\\site-packages (2.6.1)Note: you may need to restart the kernel to use updated packages.\n",
      "\n"
     ]
    }
   ],
   "source": [
    "pip install --upgrade pygame\n"
   ]
  },
  {
   "cell_type": "code",
   "execution_count": 3,
   "id": "8dc16683-837d-4707-a9bd-1d2b6e9dcf05",
   "metadata": {},
   "outputs": [
    {
     "ename": "error",
     "evalue": "video system not initialized",
     "output_type": "error",
     "traceback": [
      "\u001b[1;31m---------------------------------------------------------------------------\u001b[0m",
      "\u001b[1;31merror\u001b[0m                                     Traceback (most recent call last)",
      "Cell \u001b[1;32mIn[3], line 21\u001b[0m\n\u001b[0;32m     19\u001b[0m         pygame\u001b[38;5;241m.\u001b[39mquit()\n\u001b[0;32m     20\u001b[0m         exit()\n\u001b[1;32m---> 21\u001b[0m keys \u001b[38;5;241m=\u001b[39m pygame\u001b[38;5;241m.\u001b[39mkey\u001b[38;5;241m.\u001b[39mget_pressed()\n\u001b[0;32m     22\u001b[0m \u001b[38;5;28;01mif\u001b[39;00m keys[pygame\u001b[38;5;241m.\u001b[39mK_UP]: \n\u001b[0;32m     23\u001b[0m     ball_pos[\u001b[38;5;241m1\u001b[39m] \u001b[38;5;241m=\u001b[39m \u001b[38;5;28mmax\u001b[39m(ball_pos[\u001b[38;5;241m1\u001b[39m] \u001b[38;5;241m-\u001b[39m speed, ball_radius)\n",
      "\u001b[1;31merror\u001b[0m: video system not initialized"
     ]
    }
   ],
   "source": [
    "import pygame\n",
    "pygame.init()\n",
    "\n",
    "window_size = (800, 600) \n",
    "screen = pygame.display.set_mode(window_size) \n",
    "pygame.display.set_caption(\"Draw circle\")\n",
    "ball_color = pygame.Color('red')\n",
    "bg_color = pygame.Color('white')\n",
    "\n",
    "ball_pos = [400, 300]\n",
    "\n",
    "ball_radius = 25\n",
    "\n",
    "speed = 20 \n",
    "\n",
    "while True:\n",
    "    for event in pygame.event.get():\n",
    "        if event.type == pygame.QUIT:\n",
    "            pygame.quit()\n",
    "            exit()\n",
    "    keys = pygame.key.get_pressed()\n",
    "    if keys[pygame.K_UP]: \n",
    "        ball_pos[1] = max(ball_pos[1] - speed, ball_radius)\n",
    "    if keys[pygame.K_DOWN]:\n",
    "        ball_pos[1] = min(ball_pos[1] + speed, window_size[1] - ball_radius)\n",
    "    if keys[pygame.K_LEFT]:\n",
    "        ball_pos[0] = max(ball_pos[0] - speed, ball_radius)\n",
    "    if keys[pygame.K_RIGHT]:\n",
    "        ball_pos[0] = min(ball_pos[0] + speed, window_size[0] - ball_radius)\n",
    "    \n",
    "    screen.fill(bg_color)\n",
    "    pygame.draw.circle(screen, ball_color, ball_pos, ball_radius)\n",
    "    pygame.display.flip()\n",
    "    pygame.time.Clock().tick(24)"
   ]
  },
  {
   "cell_type": "code",
   "execution_count": 1,
   "id": "e8260fa6-2990-4277-96f6-18715a3a644b",
   "metadata": {},
   "outputs": [
    {
     "name": "stdout",
     "output_type": "stream",
     "text": [
      "J\n"
     ]
    }
   ],
   "source": [
    "print(\"J\")"
   ]
  },
  {
   "cell_type": "code",
   "execution_count": 3,
   "id": "70f471c6-16fa-4e69-9cc6-9eff80931444",
   "metadata": {},
   "outputs": [
    {
     "data": {
      "text/plain": [
       "2"
      ]
     },
     "execution_count": 3,
     "metadata": {},
     "output_type": "execute_result"
    }
   ],
   "source": [
    "1+1"
   ]
  },
  {
   "cell_type": "code",
   "execution_count": 1,
   "id": "b39d8599-0ed5-4de1-9ed3-fefb3f5a722f",
   "metadata": {},
   "outputs": [
    {
     "name": "stdout",
     "output_type": "stream",
     "text": [
      "✅ The folder exists.\n"
     ]
    }
   ],
   "source": [
    "import os\n",
    "\n",
    "music_folder = \"C:/Users/denis/Downloads/Lab_7/Lab7_musics\"\n",
    "\n",
    "if not os.path.exists(music_folder):\n",
    "    print(\"❌ ERROR: The folder does not exist!\")\n",
    "else:\n",
    "    print(\"✅ The folder exists.\")\n"
   ]
  },
  {
   "cell_type": "code",
   "execution_count": 1,
   "id": "221ae426-0855-46d7-9ea0-7c3a305ed3ef",
   "metadata": {},
   "outputs": [],
   "source": [
    "import os\n",
    "os.chdir(\"C:/Users/denis/Downloads/Lab_7\")\n"
   ]
  },
  {
   "cell_type": "code",
   "execution_count": 3,
   "id": "4d1dc169-c395-479d-9b42-76d1ff5ac32a",
   "metadata": {},
   "outputs": [
    {
     "name": "stdout",
     "output_type": "stream",
     "text": [
      "✅ Image file found.\n"
     ]
    }
   ],
   "source": [
    "import os\n",
    "\n",
    "image_path = \"C:/Users/denis/Downloads/Lab_7/music_elem/Loony.jpg\"\n",
    "\n",
    "if not os.path.exists(image_path):\n",
    "    print(\"❌ ERROR: Image file not found!\")\n",
    "else:\n",
    "    print(\"✅ Image file found.\")\n"
   ]
  },
  {
   "cell_type": "code",
   "execution_count": 1,
   "id": "c98fba4a-96aa-43a2-a7c8-ad2342e184f1",
   "metadata": {},
   "outputs": [
    {
     "name": "stdout",
     "output_type": "stream",
     "text": [
      "pygame 2.6.1 (SDL 2.28.4, Python 3.12.9)\n",
      "Hello from the pygame community. https://www.pygame.org/contribute.html\n"
     ]
    }
   ],
   "source": [
    "import pygame\n",
    "import os\n",
    "\n",
    "pygame.init()\n",
    "\n",
    "music_folder = \"C:/Users/denis/Downloads/Lab_7/Lab7_musics\"\n",
    "playlist = [os.path.join(music_folder, song) for song in os.listdir(music_folder) if song.endswith(\".mp3\")]\n",
    "\n",
    "screen = pygame.display.set_mode((800, 800))\n",
    "pygame.display.set_caption(\"Loony Lao\")\n",
    "clock = pygame.time.Clock()\n",
    "\n",
    "image_folder = \"C:/Users/denis/Downloads/Lab_7/music_elem\"\n",
    "background = pygame.image.load(os.path.join(image_folder, \"Loony.jpg\"))\n",
    "playb = pygame.transform.scale(pygame.image.load(os.path.join(image_folder, \"play.png\")), (70, 70))\n",
    "pausb = pygame.transform.scale(pygame.image.load(os.path.join(image_folder, \"pause.png\")), (70, 70))\n",
    "nextb = pygame.transform.scale(pygame.image.load(os.path.join(image_folder, \"next.png\")), (70, 70))\n",
    "prevb = pygame.transform.scale(pygame.image.load(os.path.join(image_folder, \"back.png\")), (75, 75))\n",
    "\n",
    "bg = pygame.Surface((500, 200))\n",
    "bg.fill((255, 255, 255))\n",
    "font2 = pygame.font.Font(None, 20)\n",
    "\n",
    "index = 0\n",
    "aplay = True\n",
    "\n",
    "pygame.mixer.music.load(playlist[index])\n",
    "pygame.mixer.music.play(1)\n",
    "\n",
    "run = True\n",
    "while run:\n",
    "    screen.fill((0, 0, 0))\n",
    "    for event in pygame.event.get():\n",
    "        if event.type == pygame.QUIT:\n",
    "            run = False\n",
    "        elif event.type == pygame.KEYDOWN:\n",
    "            if event.key == pygame.K_SPACE:\n",
    "                aplay = not aplay\n",
    "                pygame.mixer.music.pause() if not aplay else pygame.mixer.music.unpause()\n",
    "            elif event.key == pygame.K_RIGHT:\n",
    "                index = (index + 1) % len(playlist)\n",
    "                pygame.mixer.music.load(playlist[index])\n",
    "                pygame.mixer.music.play()\n",
    "            elif event.key == pygame.K_LEFT:\n",
    "                index = (index - 1) % len(playlist)\n",
    "                pygame.mixer.music.load(playlist[index])\n",
    "                pygame.mixer.music.play()\n",
    "\n",
    "    screen.blit(background, (0, 0))\n",
    "    screen.blit(bg, (155, 500))\n",
    "    screen.blit(font2.render(os.path.basename(playlist[index]), True, (20, 20, 50)), (365, 520))\n",
    "    screen.blit(pausb if aplay else playb, (370, 590))\n",
    "    screen.blit(nextb, (460, 587))\n",
    "    screen.blit(prevb, (273, 585))\n",
    "\n",
    "    pygame.display.update()\n",
    "    clock.tick(24)\n",
    "\n",
    "pygame.quit()\n",
    "exit()\n"
   ]
  },
  {
   "cell_type": "code",
   "execution_count": null,
   "id": "181d83af-0d88-413d-973d-d430465ad0c8",
   "metadata": {},
   "outputs": [],
   "source": []
  },
  {
   "cell_type": "code",
   "execution_count": null,
   "id": "f9eb9c47-dd89-477a-8fa0-cda6619f0a79",
   "metadata": {},
   "outputs": [],
   "source": []
  },
  {
   "cell_type": "code",
   "execution_count": null,
   "id": "2ac56cfa-bcee-4f3d-8687-ae90ae4d49de",
   "metadata": {},
   "outputs": [],
   "source": []
  },
  {
   "cell_type": "code",
   "execution_count": null,
   "id": "c266546a-1631-4527-932c-ef7f39388061",
   "metadata": {},
   "outputs": [],
   "source": []
  },
  {
   "cell_type": "code",
   "execution_count": 16,
   "id": "55101e21-7bcf-4bcf-97fb-5358a8fa3428",
   "metadata": {},
   "outputs": [],
   "source": []
  }
 ],
 "metadata": {
  "kernelspec": {
   "display_name": "Python [conda env:base] *",
   "language": "python",
   "name": "conda-base-py"
  },
  "language_info": {
   "codemirror_mode": {
    "name": "ipython",
    "version": 3
   },
   "file_extension": ".py",
   "mimetype": "text/x-python",
   "name": "python",
   "nbconvert_exporter": "python",
   "pygments_lexer": "ipython3",
   "version": "3.12.9"
  }
 },
 "nbformat": 4,
 "nbformat_minor": 5
}
